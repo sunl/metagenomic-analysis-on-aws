{
 "cells": [
  {
   "cell_type": "markdown",
   "id": "e1173ae9-d931-4289-ae1a-f5e4350cea25",
   "metadata": {},
   "source": [
    "### 批量运行质控任务"
   ]
  },
  {
   "cell_type": "code",
   "execution_count": 8,
   "id": "519f4e28-91af-485f-b68e-18c1e41b329c",
   "metadata": {},
   "outputs": [
    {
     "name": "stdout",
     "output_type": "stream",
     "text": [
      "jobname:  SRR10389008-16 queue:  q-qc-test\n",
      "{'ResponseMetadata': {'RequestId': '65b7b454-3d69-4301-b235-1adf4257ed35', 'HTTPStatusCode': 200, 'HTTPHeaders': {'date': 'Tue, 03 Oct 2023 08:41:18 GMT', 'content-type': 'application/json', 'content-length': '172', 'connection': 'keep-alive', 'x-amzn-requestid': '65b7b454-3d69-4301-b235-1adf4257ed35', 'access-control-allow-origin': '*', 'x-amz-apigw-id': 'MN4DSGz95PgF9Dw=', 'access-control-expose-headers': 'X-amzn-errortype,X-amzn-requestid,X-amzn-errormessage,X-amzn-trace-id,X-amz-apigw-id,date', 'x-amzn-trace-id': 'Root=1-651bd3ae-753e3eba7b03a53263a0748d'}, 'RetryAttempts': 0}, 'jobArn': 'arn:aws-cn:batch:cn-northwest-1:691348495649:job/a943ee3b-5f6e-444a-a758-0fc1d38e7a3e', 'jobName': 'SRR10389008-16', 'jobId': 'a943ee3b-5f6e-444a-a758-0fc1d38e7a3e'}\n",
      "jobname:  SRR10389009-16 queue:  q-qc-test\n",
      "{'ResponseMetadata': {'RequestId': '26ece85b-a29b-48b9-9c36-89bcf6836bdc', 'HTTPStatusCode': 200, 'HTTPHeaders': {'date': 'Tue, 03 Oct 2023 08:41:18 GMT', 'content-type': 'application/json', 'content-length': '172', 'connection': 'keep-alive', 'x-amzn-requestid': '26ece85b-a29b-48b9-9c36-89bcf6836bdc', 'access-control-allow-origin': '*', 'x-amz-apigw-id': 'MN4DTH9DZPgFl3g=', 'access-control-expose-headers': 'X-amzn-errortype,X-amzn-requestid,X-amzn-errormessage,X-amzn-trace-id,X-amz-apigw-id,date', 'x-amzn-trace-id': 'Root=1-651bd3ae-6df9e50d0933c1e72ad58768'}, 'RetryAttempts': 0}, 'jobArn': 'arn:aws-cn:batch:cn-northwest-1:691348495649:job/68aeb6f0-d1a5-4807-98ee-2b8c9bf93d6a', 'jobName': 'SRR10389009-16', 'jobId': '68aeb6f0-d1a5-4807-98ee-2b8c9bf93d6a'}\n",
      "jobname:  SRR10389010-16 queue:  q-qc-test\n",
      "{'ResponseMetadata': {'RequestId': '5428f03a-3cc7-4422-8d72-bc1082e00877', 'HTTPStatusCode': 200, 'HTTPHeaders': {'date': 'Tue, 03 Oct 2023 08:41:18 GMT', 'content-type': 'application/json', 'content-length': '172', 'connection': 'keep-alive', 'x-amzn-requestid': '5428f03a-3cc7-4422-8d72-bc1082e00877', 'access-control-allow-origin': '*', 'x-amz-apigw-id': 'MN4DUGZiZPgFo3Q=', 'access-control-expose-headers': 'X-amzn-errortype,X-amzn-requestid,X-amzn-errormessage,X-amzn-trace-id,X-amz-apigw-id,date', 'x-amzn-trace-id': 'Root=1-651bd3ae-6a5ed83348d50afa316a2d1a'}, 'RetryAttempts': 0}, 'jobArn': 'arn:aws-cn:batch:cn-northwest-1:691348495649:job/60cc6dc4-29b2-4b51-b67c-380e05caaa4d', 'jobName': 'SRR10389010-16', 'jobId': '60cc6dc4-29b2-4b51-b67c-380e05caaa4d'}\n",
      "jobname:  SRR10389011-16 queue:  q-qc-test\n",
      "{'ResponseMetadata': {'RequestId': '0e3b5a9a-301e-459c-b68e-1f54b49d1ead', 'HTTPStatusCode': 200, 'HTTPHeaders': {'date': 'Tue, 03 Oct 2023 08:41:18 GMT', 'content-type': 'application/json', 'content-length': '172', 'connection': 'keep-alive', 'x-amzn-requestid': '0e3b5a9a-301e-459c-b68e-1f54b49d1ead', 'access-control-allow-origin': '*', 'x-amz-apigw-id': 'MN4DVHYB5PgF6rg=', 'access-control-expose-headers': 'X-amzn-errortype,X-amzn-requestid,X-amzn-errormessage,X-amzn-trace-id,X-amz-apigw-id,date', 'x-amzn-trace-id': 'Root=1-651bd3ae-06f1258f41a570c06d3a7760'}, 'RetryAttempts': 0}, 'jobArn': 'arn:aws-cn:batch:cn-northwest-1:691348495649:job/20173d6e-73b0-4ae2-b446-53c43c81860e', 'jobName': 'SRR10389011-16', 'jobId': '20173d6e-73b0-4ae2-b446-53c43c81860e'}\n",
      "jobname:  SRR10389012-16 queue:  q-qc-test\n",
      "{'ResponseMetadata': {'RequestId': 'd32a9997-1d56-4fa5-be92-10842ab3ce4e', 'HTTPStatusCode': 200, 'HTTPHeaders': {'date': 'Tue, 03 Oct 2023 08:41:18 GMT', 'content-type': 'application/json', 'content-length': '172', 'connection': 'keep-alive', 'x-amzn-requestid': 'd32a9997-1d56-4fa5-be92-10842ab3ce4e', 'access-control-allow-origin': '*', 'x-amz-apigw-id': 'MN4DWG9tZPgFy9Q=', 'access-control-expose-headers': 'X-amzn-errortype,X-amzn-requestid,X-amzn-errormessage,X-amzn-trace-id,X-amz-apigw-id,date', 'x-amzn-trace-id': 'Root=1-651bd3ae-792134be5d58ff5279e1acff'}, 'RetryAttempts': 0}, 'jobArn': 'arn:aws-cn:batch:cn-northwest-1:691348495649:job/28c6f937-e887-4cd5-8567-bf4f025a15b2', 'jobName': 'SRR10389012-16', 'jobId': '28c6f937-e887-4cd5-8567-bf4f025a15b2'}\n",
      "jobname:  SRR10389013-16 queue:  q-qc-test\n",
      "{'ResponseMetadata': {'RequestId': 'b5562356-2892-4b2e-9442-e31004807ec3', 'HTTPStatusCode': 200, 'HTTPHeaders': {'date': 'Tue, 03 Oct 2023 08:41:18 GMT', 'content-type': 'application/json', 'content-length': '172', 'connection': 'keep-alive', 'x-amzn-requestid': 'b5562356-2892-4b2e-9442-e31004807ec3', 'access-control-allow-origin': '*', 'x-amz-apigw-id': 'MN4DWF5zZPgFmYg=', 'access-control-expose-headers': 'X-amzn-errortype,X-amzn-requestid,X-amzn-errormessage,X-amzn-trace-id,X-amz-apigw-id,date', 'x-amzn-trace-id': 'Root=1-651bd3ae-0fe7a2883f1c15224cf0b449'}, 'RetryAttempts': 0}, 'jobArn': 'arn:aws-cn:batch:cn-northwest-1:691348495649:job/6eb87b44-428d-4661-b3b2-d356fed38abe', 'jobName': 'SRR10389013-16', 'jobId': '6eb87b44-428d-4661-b3b2-d356fed38abe'}\n",
      "jobname:  SRR10389014-16 queue:  q-qc-test\n",
      "{'ResponseMetadata': {'RequestId': 'd92bc56b-26b4-4514-9d87-e738588c2965', 'HTTPStatusCode': 200, 'HTTPHeaders': {'date': 'Tue, 03 Oct 2023 08:41:18 GMT', 'content-type': 'application/json', 'content-length': '172', 'connection': 'keep-alive', 'x-amzn-requestid': 'd92bc56b-26b4-4514-9d87-e738588c2965', 'access-control-allow-origin': '*', 'x-amz-apigw-id': 'MN4DXF2DZPgFsQA=', 'access-control-expose-headers': 'X-amzn-errortype,X-amzn-requestid,X-amzn-errormessage,X-amzn-trace-id,X-amz-apigw-id,date', 'x-amzn-trace-id': 'Root=1-651bd3ae-4c4938a256897022661e468a'}, 'RetryAttempts': 0}, 'jobArn': 'arn:aws-cn:batch:cn-northwest-1:691348495649:job/824650a1-1da6-4d41-8dd9-782465ce4639', 'jobName': 'SRR10389014-16', 'jobId': '824650a1-1da6-4d41-8dd9-782465ce4639'}\n",
      "jobname:  SRR10389015-16 queue:  q-qc-test\n",
      "{'ResponseMetadata': {'RequestId': 'ad40744c-88f3-48bf-8e11-7eea93c736fc', 'HTTPStatusCode': 200, 'HTTPHeaders': {'date': 'Tue, 03 Oct 2023 08:41:19 GMT', 'content-type': 'application/json', 'content-length': '172', 'connection': 'keep-alive', 'x-amzn-requestid': 'ad40744c-88f3-48bf-8e11-7eea93c736fc', 'access-control-allow-origin': '*', 'x-amz-apigw-id': 'MN4DYFGA5PgFavQ=', 'access-control-expose-headers': 'X-amzn-errortype,X-amzn-requestid,X-amzn-errormessage,X-amzn-trace-id,X-amz-apigw-id,date', 'x-amzn-trace-id': 'Root=1-651bd3ae-19c18823003d194d6c36fbc7'}, 'RetryAttempts': 0}, 'jobArn': 'arn:aws-cn:batch:cn-northwest-1:691348495649:job/10dddda8-1ef9-4425-993b-7cc90c3cbf8b', 'jobName': 'SRR10389015-16', 'jobId': '10dddda8-1ef9-4425-993b-7cc90c3cbf8b'}\n"
     ]
    }
   ],
   "source": [
    "import openpyxl\n",
    "import boto3\n",
    "import re\n",
    "\n",
    "##################################################################\n",
    "#excel中保存输入文件信息\n",
    "wb = openpyxl.load_workbook('sample-info.xlsx')\n",
    "sheet = wb['metagenomic']\n",
    "#改成你自己的账户ID\n",
    "account='691348495649'\n",
    "\n",
    "##################################################################\n",
    "#任务脚本\n",
    "script = '/scripts/qc.sh'\n",
    "#任务信息保存在DynamoDB表中\n",
    "dbtable = 'metagenomic_qc'\n",
    "dynamodb = boto3.resource('dynamodb')\n",
    "table = dynamodb.Table(dbtable)\n",
    "#输入文件存储在该S3桶中\n",
    "bucket = 'metagenomic-' + account + '-cn-northwest-1'\n",
    "\n",
    "batch = boto3.client('batch')\n",
    "#Batch任务定义\n",
    "jobdef='jd-qc-test:5'\n",
    "#Batch任务队列\n",
    "jobqueue='q-qc-test'\n",
    "\n",
    "for row in sheet.iter_rows(min_row=2):\n",
    "    sample = row[0].value\n",
    "    threads=16\n",
    "    memory='31500'\n",
    "    \n",
    "    # init ddb table\n",
    "    table.put_item(\n",
    "       Item={\n",
    "            'sample': sample,\n",
    "            'threads': threads,\n",
    "            'qc_time': 0,\n",
    "            'status': 0\n",
    "        }\n",
    "    )\n",
    "    \n",
    "    # submit jobs\n",
    "    jobname = sample + '-' + str(threads)\n",
    "    print('jobname: ', jobname, 'queue: ', jobqueue)\n",
    "    params = {\n",
    "        'script':script,\n",
    "        'sample':sample,\n",
    "        'threads':str(threads),\n",
    "        'bucket':bucket,\n",
    "        'dbtable':dbtable\n",
    "    }\n",
    "    resourceRequirements = [\n",
    "        {\n",
    "            'value':str(threads),\n",
    "            'type':'VCPU'\n",
    "        },\n",
    "        {\n",
    "            'value':memory,\n",
    "            'type':'MEMORY'\n",
    "        },\n",
    "    ]\n",
    "    response = batch.submit_job(\n",
    "        jobName=jobname,\n",
    "        jobQueue=jobqueue,\n",
    "        jobDefinition=jobdef,\n",
    "        parameters=params,\n",
    "        containerOverrides={\n",
    "            'resourceRequirements':resourceRequirements\n",
    "        }\n",
    "    )\n",
    "    print(response)"
   ]
  },
  {
   "cell_type": "code",
   "execution_count": null,
   "id": "357700a8-fd77-42e4-abd0-d0c87b95072c",
   "metadata": {},
   "outputs": [],
   "source": []
  }
 ],
 "metadata": {
  "kernelspec": {
   "display_name": "conda_python3",
   "language": "python",
   "name": "conda_python3"
  },
  "language_info": {
   "codemirror_mode": {
    "name": "ipython",
    "version": 3
   },
   "file_extension": ".py",
   "mimetype": "text/x-python",
   "name": "python",
   "nbconvert_exporter": "python",
   "pygments_lexer": "ipython3",
   "version": "3.10.12"
  }
 },
 "nbformat": 4,
 "nbformat_minor": 5
}
