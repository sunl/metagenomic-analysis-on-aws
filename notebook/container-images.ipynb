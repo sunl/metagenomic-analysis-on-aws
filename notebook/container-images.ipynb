{
 "cells": [
  {
   "cell_type": "markdown",
   "id": "e18f1404-ca78-4bdd-b11f-ab6471604388",
   "metadata": {},
   "source": [
    "# 使用预置镜像"
   ]
  },
  {
   "cell_type": "markdown",
   "id": "eaced5e3-a4ef-49a7-8c8b-ee98a21cddfe",
   "metadata": {
    "tags": []
   },
   "source": [
    "### 拉取镜像"
   ]
  },
  {
   "cell_type": "code",
   "execution_count": null,
   "id": "e5fadb9c-5e27-405f-88f1-9b548961d089",
   "metadata": {
    "tags": []
   },
   "outputs": [],
   "source": [
    "%%sh\n",
    "\n",
    "docker pull public.ecr.aws/n5d9q4w7/metagenomic:qc\n",
    "docker pull public.ecr.aws/n5d9q4w7/metagenomic:metawrap\n",
    "docker pull public.ecr.aws/n5d9q4w7/metagenomic:annotation\n",
    "docker pull public.ecr.aws/n5d9q4w7/metagenomic:diamond\n",
    "\n",
    "docker images"
   ]
  },
  {
   "cell_type": "markdown",
   "id": "3e6a7e2d-c1a4-4f16-9485-340deebf3030",
   "metadata": {},
   "source": [
    "### 推送镜像"
   ]
  },
  {
   "cell_type": "code",
   "execution_count": null,
   "id": "ca28264b-1ade-4986-bb50-aea7025d2516",
   "metadata": {
    "tags": []
   },
   "outputs": [],
   "source": [
    "%%sh\n",
    "\n",
    "repo_uri=`aws ecr describe-repositories --repository-names metagenomic --query 'repositories[0].repositoryUri' --output text`\n",
    "echo $repo_uri \n",
    "\n",
    "docker tag public.ecr.aws/n5d9q4w7/metagenomic:qc $repo_uri:qc\n",
    "docker tag public.ecr.aws/n5d9q4w7/metagenomic:metawrap $repo_uri:metawrap\n",
    "docker tag public.ecr.aws/n5d9q4w7/metagenomic:annotation $repo_uri:annotation\n",
    "docker tag public.ecr.aws/n5d9q4w7/metagenomic:diamond $repo_uri:diamond\n",
    "\n",
    "docker images\n",
    "\n",
    "ecr_ep=$(echo $repo_uri | sed 's/\\/.*//')\n",
    "aws ecr get-login-password --region cn-northwest-1 | docker login --username AWS --password-stdin $ecr_ep\n",
    "\n",
    "docker push $repo_uri:qc\n",
    "docker push $repo_uri:metawrap\n",
    "docker push $repo_uri:annotation\n",
    "docker push $repo_uri:diamond\n",
    "\n",
    "aws ecr list-images --repository-name metagenomic --query 'imageIds[].imageTag' --output text"
   ]
  },
  {
   "cell_type": "code",
   "execution_count": null,
   "id": "02a80ab8-2bb6-4b70-8101-d52a76c5219c",
   "metadata": {},
   "outputs": [],
   "source": []
  }
 ],
 "metadata": {
  "kernelspec": {
   "display_name": "conda_python3",
   "language": "python",
   "name": "conda_python3"
  },
  "language_info": {
   "codemirror_mode": {
    "name": "ipython",
    "version": 3
   },
   "file_extension": ".py",
   "mimetype": "text/x-python",
   "name": "python",
   "nbconvert_exporter": "python",
   "pygments_lexer": "ipython3",
   "version": "3.10.12"
  }
 },
 "nbformat": 4,
 "nbformat_minor": 5
}
